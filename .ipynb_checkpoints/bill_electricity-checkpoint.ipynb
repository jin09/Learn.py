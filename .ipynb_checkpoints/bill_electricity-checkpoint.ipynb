{
 "cells": [
  {
   "cell_type": "code",
   "execution_count": 1,
   "metadata": {},
   "outputs": [],
   "source": [
    "#units_c"
   ]
  },
  {
   "cell_type": "code",
   "execution_count": 9,
   "metadata": {},
   "outputs": [],
   "source": [
    "def elec_bill(units_c):\n",
    "    if units_c<50:\n",
    "        amount=.5*units_c\n",
    "        total_amount=amount+(.20*amount)\n",
    "        print(\"electricity bill is \" + str(total_amount))"
   ]
  },
  {
   "cell_type": "code",
   "execution_count": 10,
   "metadata": {},
   "outputs": [
    {
     "name": "stdout",
     "output_type": "stream",
     "text": [
      "electricity bill is 18.0\n"
     ]
    }
   ],
   "source": [
    "elec_bill(30)"
   ]
  },
  {
   "cell_type": "code",
   "execution_count": 28,
   "metadata": {},
   "outputs": [],
   "source": [
    "def elec_bill(units_c):\n",
    "    if units_c<50:\n",
    "        amount=.5*units_c\n",
    "        total_amount=amount+(.20*amount)\n",
    "        print(\"electricity bill is \" + str(total_amount))\n",
    "        \n",
    "    elif 50<units_c<150:\n",
    "        print(\"Now we are in 2nd block\")\n",
    "        amount=(50*.5)+((units_c-50)*.75)\n",
    "        total_amount=amount+(.20*amount)\n",
    "        print(\"electricity bill is \" + str(total_amount))\n",
    "        \n",
    "    elif 150<units_c<250:\n",
    "        print(\"Now we are in 3rd block\")\n",
    "        amount=100+((units_c-150)*1.2)\n",
    "        total_amount=amount+(.20*amount)\n",
    "        print(\"electricity bill is \" + str(total_amount))\n",
    "    else:\n",
    "        print(\"4th row\")\n",
    "        amount=220+((units_c-250)*1.5)\n",
    "        total_amount=amount+(.20*amount)\n",
    "        print(\"electricity bill is \" + str(total_amount))    \n",
    "        \n",
    "            "
   ]
  },
  {
   "cell_type": "code",
   "execution_count": 29,
   "metadata": {},
   "outputs": [
    {
     "name": "stdout",
     "output_type": "stream",
     "text": [
      "4th row\n",
      "electricity bill is 273.0\n"
     ]
    }
   ],
   "source": [
    "elec_bill(255)"
   ]
  },
  {
   "cell_type": "code",
   "execution_count": null,
   "metadata": {},
   "outputs": [],
   "source": []
  },
  {
   "cell_type": "code",
   "execution_count": null,
   "metadata": {},
   "outputs": [],
   "source": []
  }
 ],
 "metadata": {
  "kernelspec": {
   "display_name": "Python 3",
   "language": "python",
   "name": "python3"
  },
  "language_info": {
   "codemirror_mode": {
    "name": "ipython",
    "version": 3
   },
   "file_extension": ".py",
   "mimetype": "text/x-python",
   "name": "python",
   "nbconvert_exporter": "python",
   "pygments_lexer": "ipython3",
   "version": "3.6.7"
  }
 },
 "nbformat": 4,
 "nbformat_minor": 2
}
